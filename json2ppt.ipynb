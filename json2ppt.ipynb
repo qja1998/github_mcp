{
 "cells": [
  {
   "cell_type": "code",
   "execution_count": 3,
   "id": "f9e89abf",
   "metadata": {},
   "outputs": [],
   "source": [
    "import aspose.cells \n",
    "from aspose.cells import Workbook\n",
    "workbook = Workbook(r\"C:\\Users\\SSAFY\\Desktop\\repo\\github_mcp\\ppt\\pptx2json\\output.json\")\n",
    "workbook.save(\"sample.pptx\")"
   ]
  },
  {
   "cell_type": "code",
   "execution_count": null,
   "id": "7d0792db",
   "metadata": {},
   "outputs": [],
   "source": []
  }
 ],
 "metadata": {
  "kernelspec": {
   "display_name": "mcp",
   "language": "python",
   "name": "python3"
  },
  "language_info": {
   "codemirror_mode": {
    "name": "ipython",
    "version": 3
   },
   "file_extension": ".py",
   "mimetype": "text/x-python",
   "name": "python",
   "nbconvert_exporter": "python",
   "pygments_lexer": "ipython3",
   "version": "3.11.11"
  }
 },
 "nbformat": 4,
 "nbformat_minor": 5
}
