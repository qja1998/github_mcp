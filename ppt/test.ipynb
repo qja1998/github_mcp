{
 "cells": [
  {
   "cell_type": "code",
   "execution_count": 23,
   "id": "db2a4499",
   "metadata": {},
   "outputs": [
    {
     "name": "stdout",
     "output_type": "stream",
     "text": [
      "{'slide_title': 'Introduction to Artificial Intelligence', 'bullet_points': ['Definition of Artificial Intelligence (AI)', 'Brief history of AI development', 'Current state of AI technology', 'Importance of AI in modern society'], 'speaker_notes': \"In this slide, we will introduce the concept of Artificial Intelligence. We'll begin by defining what AI is and exploring its historical evolution from early algorithms to today's advanced machine learning systems. It's crucial to understand where we currently stand in AI technology and why it plays a vital role in various sectors, including healthcare, finance, and transportation. This sets the stage for discussing key innovations in the following slides.\"}\n"
     ]
    }
   ],
   "source": [
    "import os\n",
    "import openai\n",
    "from dotenv import load_dotenv\n",
    "\n",
    "#.env 파일에서 API 키 로드\n",
    "load_dotenv()\n",
    "openai.api_key = os.getenv(\"OPENAI_API_KEY\")\n",
    "\n",
    "# 슬라이드 콘텐츠를 위한 JSON 스키마 정의\n",
    "slide_schema = {\n",
    "    \"type\": \"object\",\n",
    "    \"properties\": {\n",
    "        \"slide_title\": {\"type\": \"string\", \"description\": \"The main title for the slide.\"},\n",
    "        \"bullet_points\": {\n",
    "            \"type\": \"array\",\n",
    "            \"items\": {\"type\": \"string\"},\n",
    "            \"description\": \"A list of key bullet points for the slide content (3-5 points).\"\n",
    "        },\n",
    "        \"speaker_notes\": {\"type\": \"string\", \"description\": \"Brief notes for the presenter.\"}\n",
    "    },\n",
    "    \"required\": [\"slide_title\", \"bullet_points\", \"speaker_notes\"],\n",
    "    \"additionalProperties\": False\n",
    "}\n",
    "\n",
    "def get_slide_content_structured(topic: str, slide_num: int, total_slides: int, context: str = \"\") -> dict:\n",
    "    \"\"\"OpenAI API를 호출하여 구조화된 슬라이드 콘텐츠를 생성합니다.\"\"\"\n",
    "    prompt = f\"\"\"\n",
    "    Generate content for slide {slide_num} of {total_slides} for a presentation about '{topic}'.\n",
    "    The overall presentation structure might follow: {context}.\n",
    "    Focus on the specific sub-topic relevant for this slide number.\n",
    "    Provide a concise title, 3-5 key bullet points, and brief speaker notes.\n",
    "    \"\"\"\n",
    "    try:\n",
    "        response = openai.chat.completions.create(\n",
    "            model=\"gpt-4o-mini\", # 또는 다른 지원 모델\n",
    "            messages=[\n",
    "                {\"role\": \"system\", \"content\": \"You are an assistant generating structured presentation content.\"},\n",
    "                {\"role\": \"user\", \"content\": prompt}\n",
    "            ],\n",
    "            response_format={\n",
    "                \"type\": \"json_schema\",\n",
    "                \"json_schema\": {\n",
    "                    \"name\": \"slide_content\",\n",
    "                    \"description\": \"Structure for a single presentation slide\",\n",
    "                    \"strict\": True, # 스키마 엄격 준수 활성화\n",
    "                    \"schema\": slide_schema\n",
    "                }\n",
    "            },\n",
    "            temperature=0.7\n",
    "        )\n",
    "        # 응답에서 JSON 콘텐츠 추출 (실제 응답 구조 확인 필요)\n",
    "        content = response.choices[0].message.content\n",
    "        # JSON 문자열을 파이썬 딕셔너리로 파싱\n",
    "        import json\n",
    "        return json.loads(content)\n",
    "\n",
    "    except Exception as e:\n",
    "        print(f\"Error calling OpenAI API: {e}\")\n",
    "        return None\n",
    "\n",
    "# 예시 호출\n",
    "topic = \"The Future of Artificial Intelligence\"\n",
    "slide_content = get_slide_content_structured(topic, 1, 5, \"Introduction, Key Innovations, Impact, Ethics, Conclusion\")\n",
    "if slide_content:\n",
    "    print(slide_content)"
   ]
  },
  {
   "cell_type": "code",
   "execution_count": 26,
   "id": "8a211847",
   "metadata": {},
   "outputs": [],
   "source": [
    "from pptx import Presentation\n",
    "from pptx.util import Inches, Pt\n",
    "\n",
    "def create_presentation_slide(prs: Presentation, layout_index: int, content: dict):\n",
    "    \"\"\"주어진 콘텐츠로 프레젠테이션에 슬라이드를 추가합니다.\"\"\"\n",
    "    # try:\n",
    "    slide_layout = prs.slide_layouts[layout_index]\n",
    "    slide = prs.slides.add_slide(slide_layout)\n",
    "\n",
    "    # 제목 및 본문 자리 표시자 접근 (레이아웃에 따라 조정 필요)\n",
    "    title = slide.shapes.title\n",
    "    body = slide.placeholders[1] # 인덱스는 레이아웃에 따라 다름\n",
    "\n",
    "    # 콘텐츠 채우기\n",
    "    if title and 'slide_title' in content:\n",
    "        title.text = content['slide_title']\n",
    "\n",
    "    if body and 'bullet_points' in content and content['bullet_points']: # 내용과 bullet_points가 있는지 확인\n",
    "        tf = body.text_frame\n",
    "        tf.clear() # 기존 텍스트 제거 (선택 사항)\n",
    "\n",
    "        # 첫 번째 글머리 기호 설정\n",
    "        first_point = content['bullet_points'][0]\n",
    "        p = tf.paragraphs[0] # clear() 후에도 첫 번째 단락은 보통 남아 있음\n",
    "        p.text = first_point  # <-- 수정된 부분: 리스트의 첫 번째 항목(문자열) 할당\n",
    "        p.level = 0 # 기본 레벨\n",
    "\n",
    "        # 나머지 글머리 기호 추가 (두 번째 항목부터)\n",
    "        for point in content['bullet_points'][1:]:\n",
    "            p = tf.add_paragraph()\n",
    "            p.text = point\n",
    "            p.level = 0 # 필요시 레벨 조정\n",
    "\n",
    "    # 발표자 노트 추가 (Notes 슬라이드가 활성화되어 있어야 함)\n",
    "    if 'speaker_notes' in content and slide.has_notes_slide:\n",
    "            notes_slide = slide.notes_slide\n",
    "            text_frame = notes_slide.notes_text_frame\n",
    "            text_frame.text = content['speaker_notes']\n",
    "\n",
    "    # except IndexError:\n",
    "    #     print(f\"Error: Slide layout index {layout_index} not found or placeholder index invalid.\")\n",
    "    # except Exception as e:\n",
    "    #     print(f\"Error creating slide: {e}\")\n",
    "\n",
    "# 예시 사용법 (앞선 OpenAI 호출 결과 사용 가정)\n",
    "prs = Presentation(r\"C:\\Users\\kwon\\Downloads\\sample.pptx\") # 템플릿 로드 또는 새 프레젠테이션 생성\n",
    "if slide_content:\n",
    "    create_presentation_slide(prs, 1, slide_content) # 레이아웃 인덱스 1 (제목 및 내용) 사용\n",
    "prs.save('generated_presentation.pptx')"
   ]
  },
  {
   "cell_type": "code",
   "execution_count": 24,
   "id": "5e0d9f59",
   "metadata": {},
   "outputs": [
    {
     "data": {
      "text/plain": [
       "{'slide_title': 'Introduction to Artificial Intelligence',\n",
       " 'bullet_points': ['Definition of Artificial Intelligence (AI)',\n",
       "  'Brief history of AI development',\n",
       "  'Current state of AI technology',\n",
       "  'Importance of AI in modern society'],\n",
       " 'speaker_notes': \"In this slide, we will introduce the concept of Artificial Intelligence. We'll begin by defining what AI is and exploring its historical evolution from early algorithms to today's advanced machine learning systems. It's crucial to understand where we currently stand in AI technology and why it plays a vital role in various sectors, including healthcare, finance, and transportation. This sets the stage for discussing key innovations in the following slides.\"}"
      ]
     },
     "execution_count": 24,
     "metadata": {},
     "output_type": "execute_result"
    }
   ],
   "source": [
    "slide_content"
   ]
  }
 ],
 "metadata": {
  "kernelspec": {
   "display_name": "mcp",
   "language": "python",
   "name": "python3"
  },
  "language_info": {
   "codemirror_mode": {
    "name": "ipython",
    "version": 3
   },
   "file_extension": ".py",
   "mimetype": "text/x-python",
   "name": "python",
   "nbconvert_exporter": "python",
   "pygments_lexer": "ipython3",
   "version": "3.11.11"
  }
 },
 "nbformat": 4,
 "nbformat_minor": 5
}
